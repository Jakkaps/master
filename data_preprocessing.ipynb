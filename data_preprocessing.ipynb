{
 "cells": [
  {
   "cell_type": "markdown",
   "metadata": {},
   "source": [
    "## Cleaning"
   ]
  },
  {
   "cell_type": "code",
   "execution_count": 119,
   "metadata": {},
   "outputs": [
    {
     "data": {
      "text/html": [
       "<div>\n",
       "<style scoped>\n",
       "    .dataframe tbody tr th:only-of-type {\n",
       "        vertical-align: middle;\n",
       "    }\n",
       "\n",
       "    .dataframe tbody tr th {\n",
       "        vertical-align: top;\n",
       "    }\n",
       "\n",
       "    .dataframe thead th {\n",
       "        text-align: right;\n",
       "    }\n",
       "</style>\n",
       "<table border=\"1\" class=\"dataframe\">\n",
       "  <thead>\n",
       "    <tr style=\"text-align: right;\">\n",
       "      <th></th>\n",
       "      <th>tweet_id</th>\n",
       "      <th>author_id</th>\n",
       "      <th>inbound</th>\n",
       "      <th>created_at</th>\n",
       "      <th>text</th>\n",
       "      <th>response_tweet_id</th>\n",
       "      <th>in_response_to_tweet_id</th>\n",
       "    </tr>\n",
       "  </thead>\n",
       "  <tbody>\n",
       "    <tr>\n",
       "      <th>24666</th>\n",
       "      <td>31297</td>\n",
       "      <td>122902</td>\n",
       "      <td>True</td>\n",
       "      <td>Fri Apr 28 15:30:08 +0000 2017</td>\n",
       "      <td>Dear @marksandspencer this is the laugh of the...</td>\n",
       "      <td>31296</td>\n",
       "      <td>NaN</td>\n",
       "    </tr>\n",
       "    <tr>\n",
       "      <th>24665</th>\n",
       "      <td>31296</td>\n",
       "      <td>marksandspencer</td>\n",
       "      <td>False</td>\n",
       "      <td>Fri Apr 28 17:03:28 +0000 2017</td>\n",
       "      <td>@122902 Which store have you seen this in, Mur...</td>\n",
       "      <td>31294</td>\n",
       "      <td>31297.0</td>\n",
       "    </tr>\n",
       "    <tr>\n",
       "      <th>24664</th>\n",
       "      <td>31294</td>\n",
       "      <td>122902</td>\n",
       "      <td>True</td>\n",
       "      <td>Fri Apr 28 17:15:00 +0000 2017</td>\n",
       "      <td>@marksandspencer Doha festival city</td>\n",
       "      <td>31292</td>\n",
       "      <td>31296.0</td>\n",
       "    </tr>\n",
       "    <tr>\n",
       "      <th>24661</th>\n",
       "      <td>31292</td>\n",
       "      <td>marksandspencer</td>\n",
       "      <td>False</td>\n",
       "      <td>Fri Apr 28 18:49:04 +0000 2017</td>\n",
       "      <td>@122902 We've mentioned this to our Internatio...</td>\n",
       "      <td>31293</td>\n",
       "      <td>31294.0</td>\n",
       "    </tr>\n",
       "    <tr>\n",
       "      <th>83300</th>\n",
       "      <td>106447</td>\n",
       "      <td>121761</td>\n",
       "      <td>True</td>\n",
       "      <td>Fri Dec 01 00:00:05 +0000 2017</td>\n",
       "      <td>@SW_Help @128411 @121204 @GWRHelp How many peo...</td>\n",
       "      <td>106449</td>\n",
       "      <td>106445.0</td>\n",
       "    </tr>\n",
       "  </tbody>\n",
       "</table>\n",
       "</div>"
      ],
      "text/plain": [
       "       tweet_id        author_id  inbound                      created_at  \\\n",
       "24666     31297           122902     True  Fri Apr 28 15:30:08 +0000 2017   \n",
       "24665     31296  marksandspencer    False  Fri Apr 28 17:03:28 +0000 2017   \n",
       "24664     31294           122902     True  Fri Apr 28 17:15:00 +0000 2017   \n",
       "24661     31292  marksandspencer    False  Fri Apr 28 18:49:04 +0000 2017   \n",
       "83300    106447           121761     True  Fri Dec 01 00:00:05 +0000 2017   \n",
       "\n",
       "                                                    text response_tweet_id  \\\n",
       "24666  Dear @marksandspencer this is the laugh of the...             31296   \n",
       "24665  @122902 Which store have you seen this in, Mur...             31294   \n",
       "24664                @marksandspencer Doha festival city             31292   \n",
       "24661  @122902 We've mentioned this to our Internatio...             31293   \n",
       "83300  @SW_Help @128411 @121204 @GWRHelp How many peo...            106449   \n",
       "\n",
       "       in_response_to_tweet_id  \n",
       "24666                      NaN  \n",
       "24665                  31297.0  \n",
       "24664                  31296.0  \n",
       "24661                  31294.0  \n",
       "83300                 106445.0  "
      ]
     },
     "execution_count": 119,
     "metadata": {},
     "output_type": "execute_result"
    }
   ],
   "source": [
    "import pandas as pd\n",
    "from tqdm import tqdm\n",
    "\n",
    "filename = 'twitter_cs'\n",
    "\n",
    "twcs: pd.DataFrame = pd.read_csv(f'data/{filename}.csv', nrows=100_000)\n",
    "twcs = twcs.sort_values('created_at')\n",
    "twcs.head()"
   ]
  },
  {
   "cell_type": "code",
   "execution_count": 120,
   "metadata": {},
   "outputs": [],
   "source": [
    "twcs[\"text\"] = (\n",
    "    twcs[\"text\"]\n",
    "    .str.replace(r\"^\\s*@[^ ]*\", \"\", regex=True)\n",
    "    .str.replace(r\"https?:\\/\\/[^\\s\\\\n]+\", \"\", regex=True)\n",
    "    .str.replace(r\"\\n+\", ' ', regex=True)\n",
    "    .str.strip()\n",
    ")\n",
    "twcs = twcs.rename(columns={'inbound': 'is_customer'})"
   ]
  },
  {
   "cell_type": "markdown",
   "metadata": {},
   "source": [
    "### Make threads"
   ]
  },
  {
   "cell_type": "code",
   "execution_count": 121,
   "metadata": {},
   "outputs": [
    {
     "name": "stderr",
     "output_type": "stream",
     "text": [
      "Making threads...: 100%|██████████| 100000/100000 [00:25<00:00, 3857.55it/s]\n"
     ]
    }
   ],
   "source": [
    "def find_root(tweet_id, df):\n",
    "    parent_id = tweet_id\n",
    "\n",
    "    while True:\n",
    "        potential_parent = df[df['in_response_to_tweet_id'] == parent_id]['tweet_id']\n",
    "\n",
    "        if len(potential_parent) == 0:\n",
    "            return parent_id\n",
    "        \n",
    "        parent_id = potential_parent.values[0]\n",
    "\n",
    "tqdm.pandas(desc=\"Making threads...\")\n",
    "twcs['thread_id'] = twcs['tweet_id'].progress_apply(lambda x: find_root(x, twcs))"
   ]
  },
  {
   "cell_type": "markdown",
   "metadata": {},
   "source": [
    "### Aggregate to chats"
   ]
  },
  {
   "cell_type": "code",
   "execution_count": 122,
   "metadata": {},
   "outputs": [
    {
     "name": "stderr",
     "output_type": "stream",
     "text": [
      "Grouping conversations...:   0%|          | 0/100000 [00:00<?, ?it/s]"
     ]
    },
    {
     "name": "stderr",
     "output_type": "stream",
     "text": [
      "Grouping conversations...: 100%|██████████| 100000/100000 [00:17<00:00, 5826.80it/s]\n"
     ]
    }
   ],
   "source": [
    "def group_conversations(df):\n",
    "    altnerating_messages = []\n",
    "    prev_is_customer = None\n",
    "\n",
    "    for _, row in df.iterrows():\n",
    "        is_customer = row['is_customer']\n",
    "\n",
    "        if prev_is_customer is None and not is_customer: # Always start with a customer message\n",
    "            continue\n",
    "        elif prev_is_customer == is_customer:\n",
    "            altnerating_messages[-1] += ' ' + row['text']\n",
    "        else:\n",
    "            altnerating_messages.append(row['text'])\n",
    "            prev_is_customer = is_customer\n",
    "\n",
    "    return altnerating_messages\n",
    "\n",
    "chats_df = twcs.copy()\n",
    "tqdm.pandas(desc=\"Grouping conversations...\")\n",
    "chats_df['chat'] = chats_df.progress_apply(lambda x: group_conversations(twcs[twcs['thread_id'] == x['thread_id']]), axis=1)\n",
    "chats_df = chats_df.drop_duplicates('thread_id')[['chat']]\n",
    "chats_df['n_messages'] = chats_df['chat'].apply(lambda x: len(x))"
   ]
  },
  {
   "cell_type": "markdown",
   "metadata": {},
   "source": [
    "### Filter"
   ]
  },
  {
   "cell_type": "code",
   "execution_count": 123,
   "metadata": {},
   "outputs": [
    {
     "name": "stdout",
     "output_type": "stream",
     "text": [
      "Found 5597 fitting chats\n"
     ]
    }
   ],
   "source": [
    "proper_length = chats_df['n_messages'] >= 4\n",
    "non_dm = chats_df['chat'].apply(lambda c: all([' dm' not in m.lower() for m in c]))\n",
    "\n",
    "chats_df = chats_df[proper_length & non_dm]\n",
    "print(f\"Found {len(chats_df)} fitting chats\")"
   ]
  },
  {
   "cell_type": "markdown",
   "metadata": {},
   "source": [
    "## Augmentation"
   ]
  },
  {
   "cell_type": "markdown",
   "metadata": {},
   "source": [
    "### Embed random question"
   ]
  },
  {
   "cell_type": "code",
   "execution_count": 124,
   "metadata": {},
   "outputs": [],
   "source": [
    "import numpy as np\n",
    "\n",
    "def random_customer_idx(x):\n",
    "    even = [i for i in range(0, x - 2, 2)] # Don't pick the last message\n",
    "    return np.random.choice(even)\n",
    "\n",
    "chats_df['aug_idx'] = chats_df['n_messages'].apply(lambda x: random_customer_idx(x))\n",
    "chats_df['aug_text'] = chats_df.apply(lambda x: x['chat'][x['aug_idx']], axis=1)"
   ]
  },
  {
   "cell_type": "code",
   "execution_count": 125,
   "metadata": {},
   "outputs": [
    {
     "name": "stderr",
     "output_type": "stream",
     "text": [
      "Batches: 100%|██████████| 175/175 [00:08<00:00, 19.50it/s]\n"
     ]
    }
   ],
   "source": [
    "from sentence_transformers import SentenceTransformer\n",
    "\n",
    "model = SentenceTransformer(\n",
    "    # \"mixedbread-ai/mxbai-embed-large-v1\"\n",
    "    \"TaylorAI/bge-micro-v2\"\n",
    ")\n",
    "\n",
    "to_embed = chats_df['aug_text'].tolist()\n",
    "embeddings = model.encode(to_embed, show_progress_bar=True)\n",
    "chats_df['aug_embedding'] = embeddings.tolist()"
   ]
  },
  {
   "cell_type": "markdown",
   "metadata": {},
   "source": [
    "### Cluster questions"
   ]
  },
  {
   "cell_type": "code",
   "execution_count": 126,
   "metadata": {},
   "outputs": [
    {
     "data": {
      "image/png": "[encoded data removed]",
      "text/plain": [
       "<Figure size 640x480 with 1 Axes>"
      ]
     },
     "metadata": {},
     "output_type": "display_data"
    }
   ],
   "source": [
    "from sklearn.cluster import KMeans\n",
    "import matplotlib.pyplot as plt\n",
    "\n",
    "ks = [i for i in range(1, 50, 1)]\n",
    "wcss = []\n",
    "\n",
    "for k in ks:\n",
    "    kmeans = KMeans(n_clusters=k, random_state=0).fit(embeddings)\n",
    "    wcss.append(kmeans.inertia_)\n",
    "\n",
    "\n",
    "plt.plot(ks, wcss)\n",
    "\n",
    "plt.title('Elbow Method For Optimal k')\n",
    "plt.xlabel('Number of clusters (k)')\n",
    "plt.ylabel('WCSS (Inertia)')\n",
    "\n",
    "plt.show()"
   ]
  },
  {
   "cell_type": "code",
   "execution_count": 127,
   "metadata": {},
   "outputs": [],
   "source": [
    "k = 20\n",
    "\n",
    "kmeans = KMeans(n_clusters=k, random_state=0).fit(embeddings)\n",
    "chats_df['cluster'] = kmeans.labels_"
   ]
  },
  {
   "cell_type": "markdown",
   "metadata": {},
   "source": [
    "### Creating augmented data"
   ]
  },
  {
   "cell_type": "code",
   "execution_count": 128,
   "metadata": {},
   "outputs": [
    {
     "name": "stderr",
     "output_type": "stream",
     "text": [
      "Grouping conversations...:   0%|          | 0/5597 [00:00<?, ?it/s]"
     ]
    },
    {
     "name": "stderr",
     "output_type": "stream",
     "text": [
      "Grouping conversations...: 100%|██████████| 5597/5597 [00:00<00:00, 6703.17it/s]\n"
     ]
    }
   ],
   "source": [
    "def substitue_sim_answer(row, df):\n",
    "    same_cluster  = df[df['cluster'] == row['cluster']]\n",
    "\n",
    "    sub = same_cluster.loc[np.random.choice(same_cluster.index)]\n",
    "    sub_chat, sub_aug_idx= sub['chat'], sub['aug_idx']\n",
    "    sub_answer = sub_chat[sub_aug_idx + 1]\n",
    "\n",
    "    orig_chat, orig_aug_idx = row['chat'], row['aug_idx']\n",
    "    aug_chat = orig_chat[:orig_aug_idx + 1] + [sub_answer] + orig_chat[orig_aug_idx + 2:]\n",
    "\n",
    "    return aug_chat\n",
    "\n",
    "\n",
    "\n",
    "chats_df['aug_chat'] = chats_df.progress_apply(lambda x: substitue_sim_answer(x, chats_df), axis=1)"
   ]
  },
  {
   "cell_type": "code",
   "execution_count": 129,
   "metadata": {},
   "outputs": [],
   "source": [
    "chats = np.array(chats_df[['chat', 'aug_chat']].values)\n",
    "\n",
    "to_shuffle = np.random.rand(len(chats)) > 0.5\n",
    "\n",
    "labels = np.where(to_shuffle, -1, 1)\n",
    "\n",
    "to_shuffle = np.column_stack((to_shuffle, to_shuffle))\n",
    "shuffled_chats = np.where(to_shuffle, chats[:, ::-1], chats)"
   ]
  },
  {
   "cell_type": "markdown",
   "metadata": {},
   "source": [
    "## Construcing graph"
   ]
  },
  {
   "cell_type": "markdown",
   "metadata": {},
   "source": [
    "### Nodes"
   ]
  },
  {
   "cell_type": "code",
   "execution_count": 130,
   "metadata": {},
   "outputs": [],
   "source": [
    "import torch\n",
    "\n",
    "torch.save(shuffled_chats, f\"data/{filename}_nodes.pt\")"
   ]
  },
  {
   "cell_type": "markdown",
   "metadata": {},
   "source": [
    "### Labels"
   ]
  },
  {
   "cell_type": "code",
   "execution_count": 131,
   "metadata": {},
   "outputs": [],
   "source": [
    "torch.save(labels, f\"data/{filename}_labels.pt\")"
   ]
  },
  {
   "cell_type": "markdown",
   "metadata": {},
   "source": [
    "### Edges"
   ]
  },
  {
   "cell_type": "code",
   "execution_count": 132,
   "metadata": {},
   "outputs": [],
   "source": [
    "from torch import Tensor\n",
    "\n",
    "def create_chat_graph(chat):\n",
    "    human_idxs = [i for i in range(0, len(chat), 2)]\n",
    "\n",
    "    chat_edges = []\n",
    "    chat_edges_idxs = []\n",
    "    for ui in range(len(chat)):\n",
    "        for uj in range(len(chat)):\n",
    "            if ui == uj:\n",
    "                edge_type = [True, False, False, False]\n",
    "            else:\n",
    "                edge_type = [\n",
    "                    False,\n",
    "                    ui > uj,\n",
    "                    ui in human_idxs,\n",
    "                    uj in human_idxs,\n",
    "                ]\n",
    "\n",
    "            edge_type = sum(2**i for i, v in enumerate(reversed(edge_type)) if v)\n",
    "\n",
    "            chat_edges_idxs.append((ui, uj))\n",
    "            chat_edges.append(edge_type)\n",
    "    \n",
    "    return chat_edges, chat_edges_idxs\n",
    "\n",
    "\n",
    "edges = []\n",
    "edge_idxs = []\n",
    "for c1, c2 in shuffled_chats:\n",
    "   c1_edges, c1_edge_idxs = create_chat_graph(c1)\n",
    "   c2_edges, c2_edge_idxs = create_chat_graph(c2)\n",
    "\n",
    "   edges.append(Tensor([c1_edges, c2_edges]).to(torch.int8))\n",
    "   edge_idxs.append(Tensor([c1_edge_idxs, c2_edge_idxs]).T.long())\n",
    "\n",
    "torch.save(edges, f\"data/{filename}_edges.pt\")\n",
    "torch.save(edge_idxs, f\"data/{filename}_edge_idxs.pt\")"
   ]
  }
 ],
 "metadata": {
  "kernelspec": {
   "display_name": ".venv",
   "language": "python",
   "name": "python3"
  },
  "language_info": {
   "codemirror_mode": {
    "name": "ipython",
    "version": 3
   },
   "file_extension": ".py",
   "mimetype": "text/x-python",
   "name": "python",
   "nbconvert_exporter": "python",
   "pygments_lexer": "ipython3",
   "version": "3.12.2"
  }
 },
 "nbformat": 4,
 "nbformat_minor": 2
}
