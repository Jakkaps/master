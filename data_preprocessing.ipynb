{
 "cells": [
  {
   "cell_type": "markdown",
   "metadata": {},
   "source": [
    "# Loading and Reformatting"
   ]
  },
  {
   "cell_type": "code",
   "execution_count": 2,
   "metadata": {},
   "outputs": [],
   "source": [
    "from typing import List\n",
    "\n",
    "import pandas as pd\n",
    "import torch\n",
    "from torch import Tensor\n",
    "\n",
    "filename = 'gogi_chats'\n",
    "messages = pd.read_csv(f'data/{filename}.csv')"
   ]
  },
  {
   "cell_type": "code",
   "execution_count": 3,
   "metadata": {},
   "outputs": [
    {
     "data": {
      "text/html": [
       "<div>\n",
       "<style scoped>\n",
       "    .dataframe tbody tr th:only-of-type {\n",
       "        vertical-align: middle;\n",
       "    }\n",
       "\n",
       "    .dataframe tbody tr th {\n",
       "        vertical-align: top;\n",
       "    }\n",
       "\n",
       "    .dataframe thead th {\n",
       "        text-align: right;\n",
       "    }\n",
       "</style>\n",
       "<table border=\"1\" class=\"dataframe\">\n",
       "  <thead>\n",
       "    <tr style=\"text-align: right;\">\n",
       "      <th></th>\n",
       "      <th>conversation_id</th>\n",
       "      <th>friendliness</th>\n",
       "      <th>helpfulness</th>\n",
       "      <th>clearness</th>\n",
       "      <th>astuteness</th>\n",
       "      <th>tactfulness</th>\n",
       "      <th>chat</th>\n",
       "    </tr>\n",
       "  </thead>\n",
       "  <tbody>\n",
       "    <tr>\n",
       "      <th>0</th>\n",
       "      <td>44481518456</td>\n",
       "      <td>3.500000</td>\n",
       "      <td>3.500000</td>\n",
       "      <td>4.500000</td>\n",
       "      <td>1.500000</td>\n",
       "      <td>4.5</td>\n",
       "      <td>[Hei ? Jeg la inn bestilling hos dere 27.12 på...</td>\n",
       "    </tr>\n",
       "    <tr>\n",
       "      <th>1</th>\n",
       "      <td>44481550385</td>\n",
       "      <td>2.333333</td>\n",
       "      <td>3.333333</td>\n",
       "      <td>4.333333</td>\n",
       "      <td>1.666667</td>\n",
       "      <td>2.0</td>\n",
       "      <td>[Hei! I romjula slo jeg til og kjøpte en del j...</td>\n",
       "    </tr>\n",
       "    <tr>\n",
       "      <th>2</th>\n",
       "      <td>44481553718</td>\n",
       "      <td>4.500000</td>\n",
       "      <td>5.000000</td>\n",
       "      <td>5.000000</td>\n",
       "      <td>1.500000</td>\n",
       "      <td>5.0</td>\n",
       "      <td>[Hei. Jeg trenger å bytte størrelse på denne m...</td>\n",
       "    </tr>\n",
       "    <tr>\n",
       "      <th>3</th>\n",
       "      <td>44481559213</td>\n",
       "      <td>4.500000</td>\n",
       "      <td>4.500000</td>\n",
       "      <td>5.000000</td>\n",
       "      <td>1.000000</td>\n",
       "      <td>4.5</td>\n",
       "      <td>[﻿Hei, Det gjelder bestilling 1000319581 :) Se...</td>\n",
       "    </tr>\n",
       "    <tr>\n",
       "      <th>4</th>\n",
       "      <td>44481564265</td>\n",
       "      <td>4.000000</td>\n",
       "      <td>4.500000</td>\n",
       "      <td>5.000000</td>\n",
       "      <td>1.000000</td>\n",
       "      <td>4.0</td>\n",
       "      <td>[Hei Jeg bestilte nettopp Kähler Hammershøi sa...</td>\n",
       "    </tr>\n",
       "  </tbody>\n",
       "</table>\n",
       "</div>"
      ],
      "text/plain": [
       "   conversation_id  friendliness  helpfulness  clearness  astuteness  \\\n",
       "0      44481518456      3.500000     3.500000   4.500000    1.500000   \n",
       "1      44481550385      2.333333     3.333333   4.333333    1.666667   \n",
       "2      44481553718      4.500000     5.000000   5.000000    1.500000   \n",
       "3      44481559213      4.500000     4.500000   5.000000    1.000000   \n",
       "4      44481564265      4.000000     4.500000   5.000000    1.000000   \n",
       "\n",
       "   tactfulness                                               chat  \n",
       "0          4.5  [Hei ? Jeg la inn bestilling hos dere 27.12 på...  \n",
       "1          2.0  [Hei! I romjula slo jeg til og kjøpte en del j...  \n",
       "2          5.0  [Hei. Jeg trenger å bytte størrelse på denne m...  \n",
       "3          4.5  [﻿Hei, Det gjelder bestilling 1000319581 :) Se...  \n",
       "4          4.0  [Hei Jeg bestilte nettopp Kähler Hammershøi sa...  "
      ]
     },
     "execution_count": 3,
     "metadata": {},
     "output_type": "execute_result"
    }
   ],
   "source": [
    "def mean_non_na(series: pd.Series) -> float:\n",
    "    as_numbers = pd.to_numeric(series, errors='coerce')\n",
    "    return as_numbers.dropna().mean()\n",
    "\n",
    "eval_dimensions = ['friendliness', 'helpfulness', 'clearness', 'astuteness', 'tactfulness']\n",
    "eval_agg_funcs = {dim: mean_non_na for dim in eval_dimensions}\n",
    "chats = messages[['conversation_id', 'message', *eval_dimensions]].groupby('conversation_id').agg(\n",
    "    {\n",
    "        **eval_agg_funcs,\n",
    "        'message': lambda x: list(x)\n",
    "    }\n",
    ").reset_index().rename(columns={'message': 'chat'})\n",
    "chats = chats.dropna(subset=eval_dimensions)\n",
    "chats.head()"
   ]
  },
  {
   "cell_type": "markdown",
   "metadata": {},
   "source": [
    "# Node Encodings"
   ]
  },
  {
   "cell_type": "code",
   "execution_count": 4,
   "metadata": {},
   "outputs": [
    {
     "name": "stderr",
     "output_type": "stream",
     "text": [
      "/Users/jak/Projects/master/.venv/lib/python3.12/site-packages/tqdm/auto.py:21: TqdmWarning: IProgress not found. Please update jupyter and ipywidgets. See https://ipywidgets.readthedocs.io/en/stable/user_install.html\n",
      "  from .autonotebook import tqdm as notebook_tqdm\n"
     ]
    }
   ],
   "source": [
    "from transformers import BertTokenizer\n",
    "\n",
    "tokenizer = BertTokenizer.from_pretrained(\"bert-base-uncased\")\n",
    "\n",
    "def tokenize_chat(chat: List[str]) -> List[Tensor]:\n",
    "    return [\n",
    "        tokenizer(u, padding=True, truncation=True, return_tensors=\"pt\")['input_ids'].squeeze()\n",
    "        for u in chat\n",
    "    ]\n",
    "\n",
    "node_encodings = []\n",
    "for _, chat_row in chats.iterrows():\n",
    "    node_encodings.append(tokenize_chat(chat_row['chat']))\n",
    "\n",
    "torch.save(node_encodings, f'data/{filename}_node_encodings.pt')"
   ]
  },
  {
   "cell_type": "markdown",
   "metadata": {},
   "source": [
    "## Edges"
   ]
  },
  {
   "cell_type": "code",
   "execution_count": 5,
   "metadata": {},
   "outputs": [],
   "source": [
    "edges = []\n",
    "edge_idxs = []\n",
    "for _, chat_row in chats.head(1).iterrows():\n",
    "    chat = chat_row['chat']\n",
    "\n",
    "    human_idxs = [i for i in range(0, len(chat), 2)]\n",
    "\n",
    "    chat_edges = []\n",
    "    chat_edges_idxs = []\n",
    "    for ui in range(len(chat)):\n",
    "        for uj in range(len(chat)):\n",
    "            if ui == uj:\n",
    "                continue\n",
    "\n",
    "            edge_type = [\n",
    "                ui > uj,\n",
    "                ui in human_idxs,\n",
    "                uj in human_idxs,\n",
    "            ]\n",
    "\n",
    "            chat_edges_idxs.append((ui, uj))\n",
    "            chat_edges.append(edge_type)\n",
    "    \n",
    "    edges.append(Tensor(chat_edges).bool())\n",
    "    edge_idxs.append(Tensor(chat_edges_idxs).T.long())\n",
    "\n",
    "torch.save(edges, f'data/{filename}_edges.pt')\n",
    "torch.save(edge_idxs, f'data/{filename}_edge_idxs.pt')"
   ]
  },
  {
   "cell_type": "markdown",
   "metadata": {},
   "source": [
    "## Labels"
   ]
  },
  {
   "cell_type": "code",
   "execution_count": 10,
   "metadata": {},
   "outputs": [],
   "source": [
    "torch.save(Tensor(chats[eval_dimensions].values), f'data/{filename}_labels.pt')"
   ]
  }
 ],
 "metadata": {
  "kernelspec": {
   "display_name": ".venv",
   "language": "python",
   "name": "python3"
  },
  "language_info": {
   "codemirror_mode": {
    "name": "ipython",
    "version": 3
   },
   "file_extension": ".py",
   "mimetype": "text/x-python",
   "name": "python",
   "nbconvert_exporter": "python",
   "pygments_lexer": "ipython3",
   "version": "3.12.2"
  }
 },
 "nbformat": 4,
 "nbformat_minor": 2
}
