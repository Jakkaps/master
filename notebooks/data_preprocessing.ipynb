{
 "cells": [
  {
   "cell_type": "markdown",
   "metadata": {},
   "source": [
    "## Cleaning"
   ]
  },
  {
   "cell_type": "code",
   "execution_count": null,
   "metadata": {},
   "outputs": [],
   "source": [
    "import pandas as pd\n",
    "from tqdm import tqdm\n",
    "\n",
    "filename = 'twitter_cs'\n",
    "\n",
    "twcs: pd.DataFrame = pd.read_csv(f'../data/{filename}.csv', nrows=1000)\n",
    "twcs.head()"
   ]
  },
  {
   "cell_type": "code",
   "execution_count": null,
   "metadata": {},
   "outputs": [],
   "source": [
    "twcs[\"text\"] = (\n",
    "    twcs[\"text\"]\n",
    "    .str.replace(r\"@[^ ]*\", \"\", regex=True)\n",
    "    .str.replace(r\"#\\S+\", \"\", regex=True)\n",
    "    .str.replace(r\"\\^[^ ]*\", \"\", regex=True)\n",
    "    .str.replace(r\"https?:\\/\\/[^\\s\\\\n]+\", \"\", regex=True)\n",
    "    .str.replace(r\"\\n+\", ' ', regex=True)\n",
    "    .str.strip()\n",
    ")\n",
    "twcs = twcs.rename(columns={'inbound': 'is_customer'})\n",
    "twcs['first_response'] = twcs['response_tweet_id'].str.split(',').str[0]\n",
    "twcs['first_response'] = twcs['first_response'].fillna(-1).astype(int)"
   ]
  },
  {
   "cell_type": "markdown",
   "metadata": {},
   "source": [
    "### Make threads"
   ]
  },
  {
   "cell_type": "code",
   "execution_count": null,
   "metadata": {},
   "outputs": [],
   "source": [
    "import networkx as nx\n",
    "from tqdm import tqdm\n",
    "\n",
    "tweet_graph = nx.from_pandas_edgelist(\n",
    "    twcs[twcs['first_response'] != -1],\n",
    "    source=\"first_response\",\n",
    "    target=\"tweet_id\",\n",
    "    create_using=nx.DiGraph(),\n",
    ")\n",
    "\n",
    "def find_final_tweet(node, graph):\n",
    "    current = node\n",
    "    while True:\n",
    "        preds = list(graph.predecessors(current))\n",
    "        if not preds:\n",
    "            return current\n",
    "        current = preds[0]\n",
    "\n",
    "\n",
    "subgraph_map = {}\n",
    "final_tweets = {node: find_final_tweet(node, tweet_graph) for node in tqdm(tweet_graph.nodes(), desc=\"Finding roots\")}\n",
    "twcs[\"thread_id\"] = twcs[\"tweet_id\"].map(final_tweets)"
   ]
  },
  {
   "cell_type": "markdown",
   "metadata": {},
   "source": [
    "### Aggregate to chats"
   ]
  },
  {
   "cell_type": "code",
   "execution_count": null,
   "metadata": {},
   "outputs": [],
   "source": [
    "import pandas as pd\n",
    "from tqdm import tqdm\n",
    "\n",
    "def group_conversations(group):\n",
    "    group = group.sort_values(by=\"created_at\", ascending=True)\n",
    "\n",
    "    alternating_messages = []\n",
    "    prev_is_customer = None\n",
    "\n",
    "    for _, row in group.iterrows():\n",
    "        is_customer = row[\"is_customer\"]\n",
    "        if prev_is_customer is None and not is_customer:  # Skip non-customer start\n",
    "            continue\n",
    "        elif prev_is_customer == is_customer:\n",
    "            alternating_messages[-1] += \" \" + row[\"text\"]\n",
    "        else:\n",
    "            alternating_messages.append(row[\"text\"])\n",
    "            prev_is_customer = is_customer\n",
    "\n",
    "    return alternating_messages\n",
    "\n",
    "\n",
    "twcs.sort_values(by=[\"thread_id\"], inplace=True)\n",
    "\n",
    "tqdm.pandas(desc=\"Grouping conversations...\")\n",
    "grouped_chats = twcs.groupby(\"thread_id\").progress_apply(group_conversations)\n",
    "\n",
    "chats_df = pd.DataFrame(grouped_chats, columns=[\"chat\"]).reset_index()\n",
    "chats_df[\"n_messages\"] = chats_df[\"chat\"].apply(len)"
   ]
  },
  {
   "cell_type": "markdown",
   "metadata": {},
   "source": [
    "### Filter"
   ]
  },
  {
   "cell_type": "code",
   "execution_count": null,
   "metadata": {},
   "outputs": [],
   "source": [
    "proper_length = (chats_df['n_messages'] >= 5) & (chats_df['n_messages'] <= 10)\n",
    "\n",
    "keywords = [' dm', 'direct message', 'direct messaging', 'dms', 'private message']\n",
    "non_dm = chats_df['chat'].apply(lambda c: all(not any(keyword in m.lower() for keyword in keywords) for m in c))\n",
    "\n",
    "chats_df = chats_df[proper_length & non_dm]\n",
    "print(f\"Found {len(chats_df)} fitting chats\")"
   ]
  },
  {
   "cell_type": "markdown",
   "metadata": {},
   "source": [
    "## Augmentation"
   ]
  },
  {
   "cell_type": "markdown",
   "metadata": {},
   "source": [
    "### Embed random question"
   ]
  },
  {
   "cell_type": "code",
   "execution_count": null,
   "metadata": {},
   "outputs": [],
   "source": [
    "import numpy as np\n",
    "\n",
    "def random_customer_idx(x):\n",
    "    even = [i for i in range(0, x - 2, 2)] # Don't pick the last message\n",
    "    return np.random.choice(even)\n",
    "\n",
    "chats_df['aug_idx'] = chats_df['n_messages'].apply(lambda x: random_customer_idx(x))\n",
    "chats_df['aug_text'] = chats_df.apply(lambda x: x['chat'][x['aug_idx']], axis=1)"
   ]
  },
  {
   "cell_type": "code",
   "execution_count": null,
   "metadata": {},
   "outputs": [],
   "source": [
    "from sentence_transformers import SentenceTransformer\n",
    "\n",
    "model = SentenceTransformer(\n",
    "    \"mixedbread-ai/mxbai-embed-large-v1\"\n",
    ")\n",
    "\n",
    "to_embed = chats_df['aug_text'].tolist()\n",
    "embeddings = model.encode(to_embed, show_progress_bar=True)\n",
    "chats_df['aug_embedding'] = embeddings.tolist()"
   ]
  },
  {
   "cell_type": "markdown",
   "metadata": {},
   "source": [
    "### Cluster questions"
   ]
  },
  {
   "cell_type": "code",
   "execution_count": null,
   "metadata": {},
   "outputs": [],
   "source": [
    "from sklearn.cluster import KMeans\n",
    "\n",
    "k = 20\n",
    "\n",
    "kmeans = KMeans(n_clusters=k, random_state=0).fit(embeddings)\n",
    "chats_df['cluster'] = kmeans.labels_"
   ]
  },
  {
   "cell_type": "markdown",
   "metadata": {},
   "source": [
    "### Creating augmented data"
   ]
  },
  {
   "cell_type": "code",
   "execution_count": null,
   "metadata": {},
   "outputs": [],
   "source": [
    "def substitue_sim_answer(row, cluster_samples, df):\n",
    "    same_cluster_indices = cluster_samples[row['cluster']]\n",
    "    \n",
    "    sub_idx = np.random.choice(same_cluster_indices)\n",
    "    sub = df.loc[sub_idx]\n",
    "\n",
    "    sub_chat, sub_aug_idx= sub['chat'], sub['aug_idx']\n",
    "    sub_answer = sub_chat[sub_aug_idx]\n",
    "\n",
    "    orig_chat, orig_aug_idx = row['chat'], row['aug_idx']\n",
    "    aug_chat = orig_chat[:orig_aug_idx + 1] + [sub_answer] + orig_chat[orig_aug_idx + 2:]\n",
    "\n",
    "    return aug_chat\n",
    "\n",
    "def prepare_cluster_samples(df):\n",
    "    cluster_samples = {}\n",
    "    for cluster, group in df.groupby('cluster'):\n",
    "        cluster_samples[cluster] = group.index.tolist()\n",
    "    return cluster_samples\n",
    "\n",
    "cluster_samples = prepare_cluster_samples(chats_df)\n",
    "tqdm.pandas(desc=\"Augmenting chats...\")\n",
    "chats_df['aug_chat'] = chats_df.progress_apply(lambda x: substitue_sim_answer(x, cluster_samples, chats_df), axis=1)"
   ]
  },
  {
   "cell_type": "code",
   "execution_count": null,
   "metadata": {},
   "outputs": [],
   "source": [
    "chats = np.array(chats_df[['chat', 'aug_chat']].values)\n",
    "\n",
    "to_shuffle = np.random.rand(len(chats)) > 0.5\n",
    "\n",
    "labels = np.where(to_shuffle, -1, 1)\n",
    "\n",
    "to_shuffle = np.column_stack((to_shuffle, to_shuffle))\n",
    "shuffled_chats = np.where(to_shuffle, chats[:, ::-1], chats)\n",
    "del chats"
   ]
  },
  {
   "cell_type": "markdown",
   "metadata": {},
   "source": [
    "## Construcing graph"
   ]
  },
  {
   "cell_type": "markdown",
   "metadata": {},
   "source": [
    "### Nodes"
   ]
  },
  {
   "cell_type": "code",
   "execution_count": null,
   "metadata": {},
   "outputs": [],
   "source": [
    "import torch\n",
    "from torch import Tensor\n",
    "import torch.nn.functional as F\n",
    "\n",
    "\n",
    "model = SentenceTransformer(\"paraphrase-MiniLM-L6-v2\")\n",
    "\n",
    "max_sen_len = 0\n",
    "max_nodes = 0\n",
    "tokenized = []\n",
    "for c1, c2 in shuffled_chats:\n",
    "    t1, t2 = model.tokenize(c1)['input_ids'], model.tokenize(c2)['input_ids']\n",
    "    max_sen_len = max(max_sen_len, t1.size(1), t2.size(1))\n",
    "    max_nodes = max(max_nodes, t1.size(0), t2.size(0))\n",
    "    tokenized.append([\n",
    "        t1, t2\n",
    "    ])\n",
    "\n",
    "node_tensor = torch.zeros(len(tokenized), 2, max_nodes, max_sen_len)\n",
    "for i, (c1, c2) in enumerate(tokenized): \n",
    "    p1 = F.pad(c1, (0, max_sen_len - c1.size(1), 0, max_nodes - c1.size(0))) \n",
    "    p2 = F.pad(c2, (0, max_sen_len - c2.size(1), 0, max_nodes - c2.size(0)))\n",
    "\n",
    "    node_tensor[i] = torch.stack([p1, p2])\n",
    "\n",
    "node_tensor = node_tensor.long()\n",
    "torch.save(node_tensor, f\"../data/{filename}_nodes.pt\")"
   ]
  },
  {
   "cell_type": "markdown",
   "metadata": {},
   "source": [
    "### Labels"
   ]
  },
  {
   "cell_type": "code",
   "execution_count": null,
   "metadata": {},
   "outputs": [],
   "source": [
    "torch.save(Tensor(labels), f\"../data/{filename}_labels.pt\")"
   ]
  },
  {
   "cell_type": "markdown",
   "metadata": {},
   "source": [
    "### Edges"
   ]
  },
  {
   "cell_type": "code",
   "execution_count": null,
   "metadata": {},
   "outputs": [],
   "source": [
    "from torch import Tensor\n",
    "\n",
    "def create_chat_graph(chat, max_edges):\n",
    "    human_idxs = [i for i in range(0, len(chat), 2)]\n",
    "\n",
    "    chat_edges = []\n",
    "    chat_edges_idxs = []\n",
    "    for ui in range(len(chat)):\n",
    "        for uj in range(len(chat)):\n",
    "            if ui == uj:\n",
    "                edge_type = [True, False, False, False]\n",
    "            else:\n",
    "                edge_type = [\n",
    "                    False,\n",
    "                    ui > uj,\n",
    "                    ui in human_idxs,\n",
    "                    uj in human_idxs,\n",
    "                ]\n",
    "\n",
    "            edge_type = sum(2**i for i, v in enumerate(reversed(edge_type)) if v)\n",
    "\n",
    "            chat_edges_idxs.append((ui, uj))\n",
    "            chat_edges.append(edge_type)\n",
    "        \n",
    "    chat_edges_pad = chat_edges + [0] * (max_edges - len(chat_edges))\n",
    "    chat_edges_idxs_pad = chat_edges_idxs + [(0, 0)] * (max_edges - len(chat_edges_idxs))\n",
    "    \n",
    "    return chat_edges_pad, chat_edges_idxs_pad\n",
    "\n",
    "\n",
    "max_edges = max_nodes**2\n",
    "\n",
    "edges = torch.zeros(len(shuffled_chats), 2, max_edges, dtype=torch.int32)\n",
    "edge_idxs = torch.zeros(len(shuffled_chats), 2, 2, max_edges, dtype=torch.int64)\n",
    "\n",
    "for i, (c1, c2) in enumerate(shuffled_chats):\n",
    "   c1_edges, c1_edge_idxs = create_chat_graph(c1, max_edges)\n",
    "   c2_edges, c2_edge_idxs = create_chat_graph(c2, max_edges)\n",
    "\n",
    "   edges[i] = Tensor([c1_edges, c2_edges])\n",
    "   edge_idxs[i] = Tensor([c1_edge_idxs, c2_edge_idxs]).transpose(1, 2)\n",
    "\n",
    "torch.save(edges, f\"../data/{filename}_edges.pt\")\n",
    "torch.save(edge_idxs, f\"../data/{filename}_edge_idxs.pt\")"
   ]
  },
  {
   "cell_type": "code",
   "execution_count": null,
   "metadata": {},
   "outputs": [],
   "source": [
    "for i in range(10):\n",
    "    random_idx = np.random.randint(0, len(shuffled_chats))\n",
    "    print(\"\\n\".join(shuffled_chats[random_idx][0]))\n",
    "    print()\n",
    "    print(\"\\n\".join(shuffled_chats[random_idx][1]))\n",
    "    print()\n",
    "    print(labels[random_idx])\n",
    "    print('-'*50)"
   ]
  }
 ],
 "metadata": {
  "kernelspec": {
   "display_name": ".venv",
   "language": "python",
   "name": "python3"
  },
  "language_info": {
   "codemirror_mode": {
    "name": "ipython",
    "version": 3
   },
   "file_extension": ".py",
   "mimetype": "text/x-python",
   "name": "python",
   "nbconvert_exporter": "python",
   "pygments_lexer": "ipython3",
   "version": "3.10.13"
  }
 },
 "nbformat": 4,
 "nbformat_minor": 2
}
