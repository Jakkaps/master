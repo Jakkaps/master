{
 "cells": [
  {
   "cell_type": "code",
   "execution_count": null,
   "metadata": {},
   "outputs": [],
   "source": [
    "import torch\n",
    "import numpy as np\n",
    "\n",
    "\n",
    "cluster_corrs = torch.load('../bootstrap_results/corrs.pt')\n",
    "cluster_corrs = np.array(cluster_corrs)\n",
    "random_cluster_corrs = np.array(torch.load('../bootstrap_results/corrs_random.pt'))"
   ]
  },
  {
   "cell_type": "code",
   "execution_count": null,
   "metadata": {},
   "outputs": [],
   "source": [
    "import matplotlib.pyplot as plt\n",
    "import numpy as np\n",
    "\n",
    "fig, axes = plt.subplots(2, 2, figsize=(10, 10))\n",
    "columns = [\"Tactfulness\", \"Helpfulness\", \"Clearness\", \"Astuteness\"]\n",
    "\n",
    "hist_params = {\"bins\": 20, \"alpha\": 0.75, \"color\": \"blue\", \"edgecolor\": \"black\"}\n",
    "\n",
    "for i in range(4):\n",
    "    ax = axes[i // 2, i % 2]  # Determine the position in a 2x2 grid\n",
    "    ax.hist(cluster_corrs[:, i], **hist_params)\n",
    "    ax.set_title(columns[i], fontsize=28, fontweight=\"bold\") \n",
    "    ax.set_xlabel(\"Correlation Values\", fontsize=14)\n",
    "    ax.set_ylabel(\"Frequency\", fontsize=12)\n",
    "\n",
    "    mean = np.mean(cluster_corrs[:, i])\n",
    "    std = np.std(cluster_corrs[:, i])\n",
    "    ci_lower = np.percentile(cluster_corrs[:, i], 2.5)\n",
    "    ci_upper = np.percentile(cluster_corrs[:, i], 97.5)\n",
    "\n",
    "    print(f\"Column: {columns[i]}\")\n",
    "    print(f\"Mean: {mean:.2f}\")\n",
    "    print(f\"Std: {std:.2f}\")\n",
    "    print(f\"95% CI: ({ci_lower:.2f}, {ci_upper:.2f})\")\n",
    "    print()\n",
    "\n",
    "plt.tight_layout()\n",
    "plt.savefig(\"distribution_plots.png\", dpi=300, bbox_inches=\"tight\")\n",
    "plt.show()"
   ]
  },
  {
   "cell_type": "code",
   "execution_count": null,
   "metadata": {},
   "outputs": [],
   "source": [
    "import numpy as np\n",
    "from scipy.stats import ttest_ind\n",
    "import statsmodels.stats.power as smp\n",
    "\n",
    "for i, col in enumerate(columns):\n",
    "    t_stat, p_value = ttest_ind(\n",
    "        cluster_corrs[:, i], random_cluster_corrs[:, i], equal_var=False\n",
    "    )\n",
    "\n",
    "    mean1 = np.mean(cluster_corrs[:, i])\n",
    "    mean2 = np.mean(random_cluster_corrs[:, i])\n",
    "    std1 = np.std(cluster_corrs[:, i], ddof=1)\n",
    "    std2 = np.std(random_cluster_corrs[:, i], ddof=1)\n",
    "\n",
    "    print(col)\n",
    "    print(f\"Our mean: {mean1:.3f}, Random mean: {mean2:.3f}\")\n",
    "    print(f\"t-statistic Welch t-test: {t_stat:.2f}\")\n",
    "    print(f\"p-value Welch t-test: {p_value:.3f}\")\n",
    "    print()"
   ]
  },
  {
   "cell_type": "code",
   "execution_count": null,
   "metadata": {},
   "outputs": [],
   "source": [
    "import numpy as np\n",
    "from scipy.stats import ttest_1samp\n",
    "\n",
    "def nice_value(value):\n",
    "    formatted_number = f\"{value:.2e}\"\n",
    "    coefficient, exponent = formatted_number.split('e')\n",
    "    exponent = int(exponent)  # Convert the exponent to an integer\n",
    "    return f\"{coefficient} * 10^({exponent})\"\n",
    "\n",
    "for i, col in enumerate(columns):\n",
    "    t_stat, p_value = ttest_1samp(\n",
    "        random_cluster_corrs[:, i], 0\n",
    "    )\n",
    "\n",
    "    print(col)\n",
    "    print(f\"t-statistic Welch t-test: {nice_value(t_stat)}\")\n",
    "    print(f\"p-value Welch t-test: {nice_value(p_value)}\")\n",
    "    print()"
   ]
  }
 ],
 "metadata": {
  "kernelspec": {
   "display_name": ".venv",
   "language": "python",
   "name": "python3"
  },
  "language_info": {
   "codemirror_mode": {
    "name": "ipython",
    "version": 3
   },
   "file_extension": ".py",
   "mimetype": "text/x-python",
   "name": "python",
   "nbconvert_exporter": "python",
   "pygments_lexer": "ipython3",
   "version": "3.10.13"
  }
 },
 "nbformat": 4,
 "nbformat_minor": 2
}
