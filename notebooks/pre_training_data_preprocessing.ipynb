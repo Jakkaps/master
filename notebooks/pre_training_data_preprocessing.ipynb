{
 "cells": [
  {
   "cell_type": "markdown",
   "metadata": {},
   "source": [
    "## Cleaning"
   ]
  },
  {
   "cell_type": "code",
   "execution_count": null,
   "metadata": {},
   "outputs": [],
   "source": [
    "import pandas as pd\n",
    "\n",
    "filename = 'twitter_cs'\n",
    "save_path = f'../data/{filename}'\n",
    "\n",
    "twcs: pd.DataFrame = pd.read_csv(f'../data/{filename}.csv', nrows=5_000)\n",
    "twcs.head()"
   ]
  },
  {
   "cell_type": "code",
   "execution_count": null,
   "metadata": {},
   "outputs": [],
   "source": [
    "twcs[\"text\"] = (\n",
    "    twcs[\"text\"]\n",
    "    .str.replace(r\"@[^ ]*\", \"\", regex=True)\n",
    "    .str.replace(r\"#\\S+\", \"\", regex=True)\n",
    "    .str.replace(r\"\\^[^ ]*\", \"\", regex=True)\n",
    "    .str.replace(r\"https?:\\/\\/[^\\s\\\\n]+\", \"\", regex=True)\n",
    "    .str.replace(r\"\\n+\", ' ', regex=True)\n",
    "    .str.strip()\n",
    ")\n",
    "twcs = twcs.rename(columns={'inbound': 'is_customer'})\n",
    "twcs['first_response'] = twcs['response_tweet_id'].str.split(',').str[0]\n",
    "twcs['first_response'] = twcs['first_response'].fillna(-1).astype(int)"
   ]
  },
  {
   "cell_type": "markdown",
   "metadata": {},
   "source": [
    "### Make threads"
   ]
  },
  {
   "cell_type": "code",
   "execution_count": null,
   "metadata": {},
   "outputs": [],
   "source": [
    "import networkx as nx\n",
    "from tqdm import tqdm\n",
    "\n",
    "tweet_graph = nx.from_pandas_edgelist(\n",
    "    twcs[twcs['first_response'] != -1],\n",
    "    source=\"first_response\",\n",
    "    target=\"tweet_id\",\n",
    "    create_using=nx.DiGraph(),\n",
    ")\n",
    "\n",
    "def find_final_tweet(node, graph):\n",
    "    current = node\n",
    "    while True:\n",
    "        preds = list(graph.predecessors(current))\n",
    "        if not preds:\n",
    "            return current\n",
    "        current = preds[0]\n",
    "\n",
    "\n",
    "subgraph_map = {}\n",
    "final_tweets = {node: find_final_tweet(node, tweet_graph) for node in tqdm(tweet_graph.nodes(), desc=\"Finding roots\")}\n",
    "twcs[\"thread_id\"] = twcs[\"tweet_id\"].map(final_tweets)"
   ]
  },
  {
   "cell_type": "markdown",
   "metadata": {},
   "source": [
    "### Aggregate to chats"
   ]
  },
  {
   "cell_type": "code",
   "execution_count": null,
   "metadata": {},
   "outputs": [],
   "source": [
    "import pandas as pd\n",
    "from tqdm import tqdm\n",
    "\n",
    "def group_conversations(group):\n",
    "    group = group.sort_values(by=\"created_at\", ascending=True)\n",
    "\n",
    "    alternating_messages = []\n",
    "    prev_is_customer = None\n",
    "\n",
    "    for _, row in group.iterrows():\n",
    "        is_customer = row[\"is_customer\"]\n",
    "        if prev_is_customer is None and not is_customer:  # Skip non-customer start\n",
    "            continue\n",
    "        elif prev_is_customer == is_customer:\n",
    "            alternating_messages[-1] += \" \" + row[\"text\"]\n",
    "        else:\n",
    "            alternating_messages.append(row[\"text\"])\n",
    "            prev_is_customer = is_customer\n",
    "\n",
    "    return alternating_messages\n",
    "\n",
    "\n",
    "twcs.sort_values(by=[\"thread_id\"], inplace=True)\n",
    "\n",
    "tqdm.pandas(desc=\"Grouping conversations...\")\n",
    "grouped_chats = twcs.groupby(\"thread_id\").progress_apply(group_conversations)\n",
    "\n",
    "chats_df = pd.DataFrame(grouped_chats, columns=[\"chat\"]).reset_index()\n",
    "chats_df[\"n_messages\"] = chats_df[\"chat\"].apply(len)"
   ]
  },
  {
   "cell_type": "markdown",
   "metadata": {},
   "source": [
    "### Filter"
   ]
  },
  {
   "cell_type": "code",
   "execution_count": null,
   "metadata": {},
   "outputs": [],
   "source": [
    "proper_length = (chats_df['n_messages'] >= 5) & (chats_df['n_messages'] <= 10)\n",
    "\n",
    "keywords = [' dm', 'direct message', 'direct messaging', 'dms', 'private message' ' pm', 'private messaging']\n",
    "non_dm = chats_df['chat'].apply(lambda c: all(not any(keyword in m.lower() for keyword in keywords) for m in c))\n",
    "\n",
    "chats_df = chats_df[proper_length & non_dm]\n",
    "print(f\"Found {len(chats_df)} fitting chats\")"
   ]
  },
  {
   "cell_type": "code",
   "execution_count": null,
   "metadata": {},
   "outputs": [],
   "source": [
    "from langdetect import detect, DetectorFactory\n",
    "from langdetect.lang_detect_exception import LangDetectException\n",
    "import pandas as pd\n",
    "\n",
    "DetectorFactory.seed = 0\n",
    "\n",
    "def is_english(text):\n",
    "    try:\n",
    "        return detect(text) == 'en'\n",
    "    except LangDetectException:\n",
    "        return False\n",
    "\n",
    "chats_df['aug_text'] = chats_df.apply(lambda x: \" // \".join(x['chat']), axis=1)\n",
    "\n",
    "tqdm.pandas(desc=\"Detecting language...\")\n",
    "chats_df['is_english'] = chats_df['aug_text'].progress_apply(is_english)"
   ]
  },
  {
   "cell_type": "code",
   "execution_count": null,
   "metadata": {},
   "outputs": [],
   "source": [
    "chats_df = chats_df[chats_df['is_english']]"
   ]
  },
  {
   "cell_type": "markdown",
   "metadata": {},
   "source": [
    "## Augmentation"
   ]
  },
  {
   "cell_type": "markdown",
   "metadata": {},
   "source": [
    "### Embedding"
   ]
  },
  {
   "cell_type": "code",
   "execution_count": null,
   "metadata": {},
   "outputs": [],
   "source": [
    "from sentence_transformers import SentenceTransformer\n",
    "\n",
    "model = SentenceTransformer(\n",
    "\"sentence-transformers/all-MiniLM-L6-v2\"\n",
    ")\n",
    "\n",
    "to_embed = chats_df['aug_text'].tolist()\n",
    "embeddings = model.encode(to_embed, show_progress_bar=True)\n",
    "chats_df['aug_embedding'] = embeddings.tolist()"
   ]
  },
  {
   "cell_type": "markdown",
   "metadata": {},
   "source": [
    "### Clustering"
   ]
  },
  {
   "cell_type": "code",
   "execution_count": null,
   "metadata": {},
   "outputs": [],
   "source": [
    "from sklearn.cluster import KMeans\n",
    "from umap import UMAP\n",
    "import matplotlib.pyplot as plt\n",
    "\n",
    "def calculate_wcss(data, pot_n_clusters):\n",
    "    wcss = []\n",
    "    for n in tqdm(pot_n_clusters):\n",
    "        kmeans = KMeans(n_clusters=n)\n",
    "        kmeans.fit(data)\n",
    "        wcss.append(kmeans.inertia_)\n",
    "    return wcss\n",
    "\n",
    "def plot_elbow(wcss, pot_n_clusters):\n",
    "    plt.figure(figsize=(8, 6))\n",
    "    plt.plot(pot_n_clusters, wcss, marker=\"o\", linestyle=\"-\", color=\"b\")\n",
    "    plt.xticks(pot_n_clusters) \n",
    "    plt.xlabel(\"Number of Clusters\")\n",
    "    plt.ylabel(\"Within-Cluster Sum of Squares (WCSS)\")\n",
    "    plt.title(\"Elbow Method for Optimal K\")\n",
    "    plt.grid(True)\n",
    "    plt.tight_layout() \n",
    "    plt.show()\n",
    "\n",
    "\n",
    "pot_n_clusters = range(1, 30, 1)\n",
    "umap_emb = UMAP(n_components=2).fit_transform(embeddings)\n",
    "wcss = calculate_wcss(umap_emb, pot_n_clusters)\n",
    "plot_elbow(wcss, pot_n_clusters)"
   ]
  },
  {
   "cell_type": "code",
   "execution_count": null,
   "metadata": {},
   "outputs": [],
   "source": [
    "import numpy as np\n",
    "\n",
    "def print_cluster_values(embeddings, n_clusters=2, per_cluster=3):\n",
    "    kmeans = KMeans(n_clusters=n_clusters)\n",
    "    kmeans.fit(embeddings)\n",
    "\n",
    "    for i in range(n_clusters):\n",
    "        cluster = np.where(kmeans.labels_ == i)[0]\n",
    "        cluster_sample = np.random.choice(cluster, per_cluster, replace=False)\n",
    "        print(f\"Cluster {i}, total length {len(cluster)}:\")\n",
    "        for idx in cluster_sample:\n",
    "            print(to_embed[idx])\n",
    "        print()\n",
    "\n",
    "print_cluster_values(umap_emb, n_clusters=10)"
   ]
  },
  {
   "cell_type": "code",
   "execution_count": null,
   "metadata": {},
   "outputs": [],
   "source": [
    "from sklearn.cluster import KMeans\n",
    "from umap import UMAP\n",
    "\n",
    "k = 10\n",
    "clusters = KMeans(n_clusters=k, random_state=0).fit(umap_emb)\n",
    "chats_df['cluster'] = clusters.labels_"
   ]
  },
  {
   "cell_type": "markdown",
   "metadata": {},
   "source": [
    "### Creating augmented data"
   ]
  },
  {
   "cell_type": "code",
   "execution_count": null,
   "metadata": {},
   "outputs": [],
   "source": [
    "import numpy as np\n",
    "\n",
    "def prepare_cluster_samples(df):\n",
    "    cluster_samples = {}\n",
    "    for cluster, group in df.groupby(\"cluster\"):\n",
    "        cluster_samples[cluster] = group.index.tolist()\n",
    "    return cluster_samples\n",
    "\n",
    "\n",
    "def subsitute_sim_answer(row, cluster_samples, df, example_per_cluster=10) -> pd.DataFrame:\n",
    "    max_retries = 100\n",
    "    orig_chat = row[\"chat\"]\n",
    "    same_cluster_indices = cluster_samples[row[\"cluster\"]]\n",
    "\n",
    "    aug_chats = []\n",
    "    used_pairs = set()\n",
    "    for _ in range(example_per_cluster):\n",
    "        if max_retries == 0:\n",
    "            break\n",
    "\n",
    "        sub = df.loc[np.random.choice(same_cluster_indices)]\n",
    "        sub_chat = sub['chat']\n",
    "\n",
    "        min_len = min(len(sub_chat), len(orig_chat))\n",
    "        agent_indices = [i for i in range(1, min_len, 2)]\n",
    "        splice_idx = np.random.choice(agent_indices)\n",
    "\n",
    "        if (sub.name, splice_idx) in used_pairs:\n",
    "            max_retries -= 1\n",
    "            continue\n",
    "\n",
    "        aug_chats.append(\n",
    "            orig_chat[:splice_idx]\n",
    "            + [sub_chat[splice_idx]]\n",
    "            + orig_chat[splice_idx + 1 :]\n",
    "        )\n",
    "\n",
    "        used_pairs.add((sub.name, splice_idx))\n",
    "    \n",
    "    return pd.DataFrame(\n",
    "        {\n",
    "            \"chat\": [orig_chat] * len(aug_chats),\n",
    "            \"aug_chat\": aug_chats\n",
    "        }\n",
    "    )\n",
    "\n",
    "\n",
    "cluster_samples = prepare_cluster_samples(chats_df)\n",
    "tqdm.pandas(desc=\"Augmenting chats...\")\n",
    "aug_chats_df = pd.concat(chats_df.progress_apply(lambda x: subsitute_sim_answer(x, cluster_samples, chats_df), axis=1).tolist(), ignore_index=True)"
   ]
  },
  {
   "cell_type": "code",
   "execution_count": null,
   "metadata": {},
   "outputs": [],
   "source": [
    "chats = np.array(aug_chats_df[['chat', 'aug_chat']].values)\n",
    "\n",
    "to_shuffle = np.random.rand(len(chats)) > 0.5\n",
    "\n",
    "labels = np.where(to_shuffle, -1, 1)\n",
    "\n",
    "to_shuffle = np.column_stack((to_shuffle, to_shuffle))\n",
    "shuffled_chats = np.where(to_shuffle, chats[:, ::-1], chats)\n",
    "del chats"
   ]
  },
  {
   "cell_type": "markdown",
   "metadata": {},
   "source": [
    "## Construcing graph"
   ]
  },
  {
   "cell_type": "markdown",
   "metadata": {},
   "source": [
    "### Nodes"
   ]
  },
  {
   "cell_type": "code",
   "execution_count": null,
   "metadata": {},
   "outputs": [],
   "source": [
    "import torch\n",
    "from torch import Tensor\n",
    "import torch.nn.functional as F\n",
    "\n",
    "model = SentenceTransformer(\"paraphrase-MiniLM-L6-v2\")\n",
    "\n",
    "max_sen_len = 0\n",
    "max_nodes = 0\n",
    "tokenized = []\n",
    "for c1, c2 in tqdm(shuffled_chats, desc=\"Tokenizing\"):\n",
    "    t1, t2 = model.tokenize(c1)['input_ids'], model.tokenize(c2)['input_ids']\n",
    "    max_sen_len = max(max_sen_len, t1.size(1), t2.size(1))\n",
    "    max_nodes = max(max_nodes, t1.size(0), t2.size(0))\n",
    "    tokenized.append([\n",
    "        t1, t2\n",
    "    ])\n",
    "\n",
    "node_tensor = torch.zeros(len(tokenized), 2, max_nodes, max_sen_len)\n",
    "for i, (c1, c2) in tqdm(enumerate(tokenized), desc=\"Padding\"): \n",
    "    p1 = F.pad(c1, (0, max_sen_len - c1.size(1), 0, max_nodes - c1.size(0))) \n",
    "    p2 = F.pad(c2, (0, max_sen_len - c2.size(1), 0, max_nodes - c2.size(0)))\n",
    "\n",
    "    node_tensor[i] = torch.stack([p1, p2])\n",
    "\n",
    "node_tensor = node_tensor.long()\n",
    "torch.save(node_tensor, f\"{save_path}/nodes.pt\")"
   ]
  },
  {
   "cell_type": "markdown",
   "metadata": {},
   "source": [
    "### Labels"
   ]
  },
  {
   "cell_type": "code",
   "execution_count": null,
   "metadata": {},
   "outputs": [],
   "source": [
    "torch.save(Tensor(labels), f\"{save_path}/labels.pt\")"
   ]
  },
  {
   "cell_type": "markdown",
   "metadata": {},
   "source": [
    "### Edges"
   ]
  },
  {
   "cell_type": "code",
   "execution_count": null,
   "metadata": {},
   "outputs": [],
   "source": [
    "from torch import Tensor\n",
    "\n",
    "def create_chat_graph(chat, max_edges):\n",
    "    human_idxs = [i for i in range(0, len(chat), 2)]\n",
    "\n",
    "    chat_edges = []\n",
    "    chat_edges_idxs = []\n",
    "    for ui in range(len(chat)):\n",
    "        for uj in range(len(chat)):\n",
    "            if ui == uj:\n",
    "                edge_type = [True, False, False, False]\n",
    "            else:\n",
    "                edge_type = [\n",
    "                    False,\n",
    "                    ui > uj,\n",
    "                    ui in human_idxs,\n",
    "                    uj in human_idxs,\n",
    "                ]\n",
    "\n",
    "            edge_type = sum(2**i for i, v in enumerate(reversed(edge_type)) if v)\n",
    "\n",
    "            chat_edges_idxs.append((ui, uj))\n",
    "            chat_edges.append(edge_type)\n",
    "        \n",
    "    chat_edges_pad = chat_edges + [0] * (max_edges - len(chat_edges))\n",
    "    chat_edges_idxs_pad = chat_edges_idxs + [(0, 0)] * (max_edges - len(chat_edges_idxs))\n",
    "    \n",
    "    return chat_edges_pad, chat_edges_idxs_pad\n",
    "\n",
    "\n",
    "max_edges = max_nodes**2\n",
    "\n",
    "edges = torch.zeros(len(shuffled_chats), 2, max_edges, dtype=torch.int32)\n",
    "edge_idxs = torch.zeros(len(shuffled_chats), 2, 2, max_edges, dtype=torch.int64)\n",
    "\n",
    "for i, (c1, c2) in tqdm(enumerate(shuffled_chats), desc=\"Creating edges\"):\n",
    "   c1_edges, c1_edge_idxs = create_chat_graph(c1, max_edges)\n",
    "   c2_edges, c2_edge_idxs = create_chat_graph(c2, max_edges)\n",
    "\n",
    "   edges[i] = Tensor([c1_edges, c2_edges])\n",
    "   edge_idxs[i] = Tensor([c1_edge_idxs, c2_edge_idxs]).transpose(1, 2)\n",
    "\n",
    "torch.save(edges, f\"{save_path}/edges.pt\")\n",
    "torch.save(edge_idxs, f\"{save_path}/edge_idxs.pt\")"
   ]
  }
 ],
 "metadata": {
  "kernelspec": {
   "display_name": ".venv",
   "language": "python",
   "name": "python3"
  },
  "language_info": {
   "codemirror_mode": {
    "name": "ipython",
    "version": 3
   },
   "file_extension": ".py",
   "mimetype": "text/x-python",
   "name": "python",
   "nbconvert_exporter": "python",
   "pygments_lexer": "ipython3",
   "version": "3.10.13"
  }
 },
 "nbformat": 4,
 "nbformat_minor": 2
}
